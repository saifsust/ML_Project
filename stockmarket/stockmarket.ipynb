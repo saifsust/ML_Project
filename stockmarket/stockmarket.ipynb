{
 "cells": [
  {
   "cell_type": "code",
   "execution_count": null,
   "metadata": {},
   "outputs": [],
   "source": [
    "import numpy as np\n",
    "\n",
    "import glob\n",
    "import csv\n",
    "import operator\n",
    "from sklearn import svm\n"
   ]
  },
  {
   "cell_type": "code",
   "execution_count": 108,
   "metadata": {},
   "outputs": [
    {
     "name": "stdout",
     "output_type": "stream",
     "text": [
      "[['1JANATAMF' '1' '9' ..., '8.9' '701000' '']\n",
      " ['1JANATAMF' '2' '7.5' ..., '7.2' '151500' '']\n",
      " ['1JANATAMF' '3' '7.5' ..., '7.2' '159000' '']\n",
      " ..., \n",
      " ['ZEALBANGLA' '947' '6.6' ..., '6.6' '1000' '']\n",
      " ['ZEALBANGLA' '948' '8.9' ..., '8.2' '4060' '']\n",
      " ['ZEALBANGLA' '949' '6.6' ..., '6.6' '110' '']]\n"
     ]
    }
   ],
   "source": [
    "path ='2012' # use your path\n",
    "allFiles = glob.glob(path+\"/*.csv\")\n",
    "mlist=[]\n",
    "dt=[]\n",
    "cp=[]\n",
    "dat=0\n",
    "# print(allFiles)\n",
    "for f in allFiles:\n",
    "    with open(f, 'r') as f1:\n",
    "        reader = csv.reader(f1)\n",
    "        dat=dat+1\n",
    "       # print(dat)\n",
    "        for o in reader:\n",
    "            o[1]=dat\n",
    "            mlist.append(o)\n",
    "path ='2013' # use your path\n",
    "allFiles = glob.glob(path + \"/*.csv\")\n",
    "for f in allFiles:\n",
    "    with open(f, 'r') as f1:\n",
    "        reader = csv.reader(f1)\n",
    "        dat=dat+1\n",
    "       # print(dat)\n",
    "        for o in reader:\n",
    "            o[1]=dat\n",
    "            mlist.append(o)\n",
    "path ='2014' # use your path\n",
    "allFiles = glob.glob(path + \"/*.csv\")\n",
    "for f in allFiles:\n",
    "    with open(f, 'r') as f1:\n",
    "        reader = csv.reader(f1)\n",
    "        dat=dat+1\n",
    "       # print(dat)\n",
    "        for o in reader:\n",
    "            o[1]=dat            \n",
    "            mlist.append(o)\n",
    "path ='2015' # use your path\n",
    "allFiles = glob.glob(path + \"/*.csv\")\n",
    "# print(allFiles)\n",
    "for f in allFiles:\n",
    "    with open(f, 'r') as f1:\n",
    "        reader = csv.reader(f1)\n",
    "        dat=dat+1\n",
    "      #  print(dat)\n",
    "        for o in reader:\n",
    "            o[1]=dat \n",
    "            mlist.append(o)\n",
    "sorlist=sorted(mlist, key=operator.itemgetter(0,1), reverse=False)\n",
    "na=np.array(sorlist)\n",
    "print(na)"
   ]
  },
  {
   "cell_type": "code",
   "execution_count": 109,
   "metadata": {},
   "outputs": [],
   "source": [
    "trainx=[]\n",
    "trainy=[]\n",
    "\n",
    "x=0\n",
    "y=na[0][0]\n",
    "list1=[]\n",
    "list2=[]\n",
    "for i in na:    \n",
    "    if(y!=i[0]):\n",
    "       # print(list2)\n",
    "        y=i[0]\n",
    "        trainx.append(list1)\n",
    "        trainy.append(list2)\n",
    "        list1=[]\n",
    "        list2=[]\n",
    "    try: \n",
    "        kx=[]\n",
    "        kx.append(float(i[1]))\n",
    "        kx.append(float(i[5]))\n",
    "        kx.append(float(i[6]))\n",
    "        list1.append(kx)\n",
    "        list2.append(float(i[5]))\n",
    "    except:\n",
    "        print(\"\")\n",
    "\n",
    "x_train = trainx[:300]\n",
    "y_train = trainy[:300]\n",
    "x_test = trainx[301:]\n",
    "y_test = trainy[301:]\n",
    "    \n",
    "\n",
    "    "
   ]
  },
  {
   "cell_type": "markdown",
   "metadata": {
    "collapsed": true
   },
   "source": [
    "# LinearRegression"
   ]
  },
  {
   "cell_type": "code",
   "execution_count": 110,
   "metadata": {},
   "outputs": [],
   "source": [
    "from sklearn.linear_model import LinearRegression\n",
    "reg = LinearRegression()\n",
    "\n",
    "for k in range(0,1):\n",
    "    reg.fit(np.array(trainx[k][0:400]),np.array(trainy[k][1:401]))\n",
    "    result = reg.predict(np.array(trainx[k][0:400]))"
   ]
  },
  {
   "cell_type": "code",
   "execution_count": 111,
   "metadata": {},
   "outputs": [
    {
     "name": "stdout",
     "output_type": "stream",
     "text": [
      "28.7276405411\n"
     ]
    }
   ],
   "source": [
    "accuracy(result)"
   ]
  },
  {
   "cell_type": "markdown",
   "metadata": {},
   "source": [
    "# Ridge Regression"
   ]
  },
  {
   "cell_type": "code",
   "execution_count": 112,
   "metadata": {},
   "outputs": [],
   "source": [
    "from sklearn.linear_model import Ridge\n",
    "reg = Ridge()\n",
    "reg.fit(np.array(trainx[k][0:400]),np.array(trainy[k][1:401]))\n",
    "result = reg.predict(np.array(trainx[k][0:400]))"
   ]
  },
  {
   "cell_type": "code",
   "execution_count": 113,
   "metadata": {},
   "outputs": [
    {
     "name": "stdout",
     "output_type": "stream",
     "text": [
      "28.705723518\n"
     ]
    }
   ],
   "source": [
    "accuracy(result)"
   ]
  },
  {
   "cell_type": "markdown",
   "metadata": {},
   "source": [
    "# Lasso Regression"
   ]
  },
  {
   "cell_type": "code",
   "execution_count": 118,
   "metadata": {},
   "outputs": [],
   "source": [
    "from sklearn.linear_model import Lasso\n",
    "reg = Lasso(alpha=0.1)\n",
    "reg.fit(np.array(trainx[k][0:400]),np.array(trainy[k][1:401]))\n",
    "result = reg.predict(np.array(trainx[k][0:400]))"
   ]
  },
  {
   "cell_type": "code",
   "execution_count": 119,
   "metadata": {},
   "outputs": [
    {
     "name": "stdout",
     "output_type": "stream",
     "text": [
      "24.4109497433\n"
     ]
    }
   ],
   "source": [
    "accuracy(result)"
   ]
  },
  {
   "cell_type": "markdown",
   "metadata": {
    "collapsed": true
   },
   "source": [
    "# Accuracy\n"
   ]
  },
  {
   "cell_type": "code",
   "execution_count": 120,
   "metadata": {},
   "outputs": [],
   "source": [
    "def accuracy(result):\n",
    "        acc = 0\n",
    "        for i in range(0,len(result)):\n",
    "            acc=acc+(result[i]-trainy[k][i])**2\n",
    "        acc=acc/len(result)\n",
    "        acc=acc**(1/2.0)\n",
    "        print((1-acc)*100)"
   ]
  },
  {
   "cell_type": "code",
   "execution_count": 121,
   "metadata": {},
   "outputs": [
    {
     "name": "stdout",
     "output_type": "stream",
     "text": [
      " Volume in drive D has no label.\n",
      " Volume Serial Number is DB1C-12A0\n",
      "\n",
      " Directory of D:\\PyCharm Community Edition 2017.2.1\\helpers\\pycharm\\stockmarket\n",
      "\n",
      "03/31/2018  01:21 PM    <DIR>          .\n",
      "03/31/2018  01:21 PM    <DIR>          ..\n",
      "03/31/2018  01:22 PM    <DIR>          .idea\n",
      "03/31/2018  01:21 PM    <DIR>          .ipynb_checkpoints\n",
      "03/31/2018  12:58 PM    <DIR>          2012\n",
      "03/31/2018  12:58 PM    <DIR>          2013\n",
      "03/31/2018  12:58 PM    <DIR>          2014\n",
      "03/31/2018  12:58 PM    <DIR>          2015\n",
      "03/31/2018  01:21 PM             7,641 stockmarket.ipynb\n",
      "               1 File(s)          7,641 bytes\n",
      "               8 Dir(s)  73,699,766,272 bytes free\n"
     ]
    }
   ],
   "source": [
    "!dir\n"
   ]
  },
  {
   "cell_type": "code",
   "execution_count": null,
   "metadata": {},
   "outputs": [],
   "source": []
  }
 ],
 "metadata": {
  "kernelspec": {
   "display_name": "Python 3",
   "language": "python",
   "name": "python3"
  },
  "language_info": {
   "codemirror_mode": {
    "name": "ipython",
    "version": 3
   },
   "file_extension": ".py",
   "mimetype": "text/x-python",
   "name": "python",
   "nbconvert_exporter": "python",
   "pygments_lexer": "ipython3",
   "version": "3.6.2"
  }
 },
 "nbformat": 4,
 "nbformat_minor": 2
}
